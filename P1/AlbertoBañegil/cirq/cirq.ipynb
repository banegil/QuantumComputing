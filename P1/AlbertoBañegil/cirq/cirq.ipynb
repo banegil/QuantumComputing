{
 "cells": [
  {
   "cell_type": "code",
   "execution_count": 11,
   "id": "going-alias",
   "metadata": {},
   "outputs": [
    {
     "name": "stdout",
     "output_type": "stream",
     "text": [
      "Counter({0: 591, 1: 409})\n"
     ]
    }
   ],
   "source": [
    "  import cirq\n",
    "\n",
    "q = cirq.NamedQubit('a')\n",
    "circuit = cirq.Circuit(cirq.H(q), cirq.amplitude_damp(0.2)(q), cirq.measure(q))\n",
    "simulator = cirq.DensityMatrixSimulator()\n",
    "result = simulator.run(circuit, repetitions=1000)\n",
    "print(result.histogram(key='a'))\n"
   ]
  },
  {
   "cell_type": "code",
   "execution_count": null,
   "id": "recreational-russian",
   "metadata": {},
   "outputs": [],
   "source": []
  }
 ],
 "metadata": {
  "kernelspec": {
   "display_name": "Python 3",
   "language": "python",
   "name": "python3"
  },
  "language_info": {
   "codemirror_mode": {
    "name": "ipython",
    "version": 3
   },
   "file_extension": ".py",
   "mimetype": "text/x-python",
   "name": "python",
   "nbconvert_exporter": "python",
   "pygments_lexer": "ipython3",
   "version": "3.8.5"
  }
 },
 "nbformat": 4,
 "nbformat_minor": 5
}
