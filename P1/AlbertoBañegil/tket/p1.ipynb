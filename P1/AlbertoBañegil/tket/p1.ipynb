{
 "cells": [
  {
   "cell_type": "code",
   "execution_count": 2,
   "id": "continental-thumb",
   "metadata": {},
   "outputs": [
    {
     "data": {
      "text/plain": [
       "[H q[0]; Rz(0.25*PI) q[0]; CX q[1], q[0]; Measure q[0] --> c[0]; Measure q[1] --> c[1]; ]"
      ]
     },
     "execution_count": 2,
     "metadata": {},
     "output_type": "execute_result"
    }
   ],
   "source": [
    "from pytket import Circuit\n",
    "c = Circuit(2,2)\n",
    "c.H(0)\n",
    "c.Rz(0.25, 0)\n",
    "c.CX(1, 0)\n",
    "c.measure_all()"
   ]
  },
  {
   "cell_type": "code",
   "execution_count": 11,
   "id": "italian-latex",
   "metadata": {
    "scrolled": false
   },
   "outputs": [
    {
     "name": "stdout",
     "output_type": "stream",
     "text": [
      "Counter({(0, 0): 510, (1, 0): 490})\n"
     ]
    }
   ],
   "source": [
    "from pytket.backends.ibm import AerBackend\n",
    "b = AerBackend()\n",
    "b.compile_circuit(c)\n",
    "handle = b.process_circuit(c, 1000)\n",
    "result = b.get_result(handle)\n",
    "counts = result.get_counts()\n",
    "print(counts)"
   ]
  },
  {
   "cell_type": "code",
   "execution_count": null,
   "id": "graphic-check",
   "metadata": {},
   "outputs": [],
   "source": []
  }
 ],
 "metadata": {
  "kernelspec": {
   "display_name": "Python 3",
   "language": "python",
   "name": "python3"
  },
  "language_info": {
   "codemirror_mode": {
    "name": "ipython",
    "version": 3
   },
   "file_extension": ".py",
   "mimetype": "text/x-python",
   "name": "python",
   "nbconvert_exporter": "python",
   "pygments_lexer": "ipython3",
   "version": "3.8.5"
  }
 },
 "nbformat": 4,
 "nbformat_minor": 5
}
