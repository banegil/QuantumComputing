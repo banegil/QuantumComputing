{
 "cells": [
  {
   "cell_type": "code",
   "execution_count": 1,
   "id": "centered-fetish",
   "metadata": {},
   "outputs": [
    {
     "name": "stdout",
     "output_type": "stream",
     "text": [
      "\n",
      "Número de ocurrencias para 0 y 1: {'0': 493, '1': 507}\n"
     ]
    },
    {
     "data": {
      "text/html": [
       "<pre style=\"word-wrap: normal;white-space: pre;background: #fff0;line-height: 1.1;font-family: &quot;Courier New&quot;,Courier,monospace\">     ┌───┐┌─┐\n",
       "q_0: ┤ H ├┤M├\n",
       "     └───┘└╥┘\n",
       "c: 1/══════╩═\n",
       "           0 </pre>"
      ],
      "text/plain": [
       "     ┌───┐┌─┐\n",
       "q_0: ┤ H ├┤M├\n",
       "     └───┘└╥┘\n",
       "c: 1/══════╩═\n",
       "           0 "
      ]
     },
     "execution_count": 1,
     "metadata": {},
     "output_type": "execute_result"
    }
   ],
   "source": [
    "import numpy as np\n",
    "from qiskit import(\n",
    "  QuantumCircuit,\n",
    "  execute,\n",
    "  Aer)\n",
    "from qiskit.visualization import plot_histogram\n",
    "\n",
    "# Usamos el qasm_simulator de Aer\n",
    "simulator = Aer.get_backend('qasm_simulator')\n",
    "# Creamos un objeto Quantum Circuit que actúa sobre el registro cuántico por defecto (q) \n",
    "# de un bit (primer parámetro) y que tiene un registro clásico de un bit (segundo parámetro)\n",
    "circuit = QuantumCircuit(1, 1)\n",
    "# Añadimos una puerta Hadamard con el qubit q_0 como entrada\n",
    "circuit.h(0)\n",
    "# Mapeamos la medida de los qubits (primer parámetro) sobre los bits clásicos\n",
    "circuit.measure([0], [0])\n",
    "# Ejecutamos el circuito sobre el simulador qasm\n",
    "job = execute(circuit, simulator, shots=1000)\n",
    "# Almacenamos los resultados\n",
    "result = job.result()\n",
    "# Capturamos las ocurrencias de salida\n",
    "counts = result.get_counts(circuit)\n",
    "# Escribimos el número de ocurrencias\n",
    "print(\"\\nNúmero de ocurrencias para 0 y 1:\",counts)\n",
    "# Dibujamos el circuito\n",
    "circuit.draw()"
   ]
  },
  {
   "cell_type": "code",
   "execution_count": 2,
   "id": "endless-alignment",
   "metadata": {},
   "outputs": [
    {
     "data": {
      "image/png": "[encoded data removed]",
      "text/plain": [
       "<Figure size 504x360 with 1 Axes>"
      ]
     },
     "execution_count": 2,
     "metadata": {},
     "output_type": "execute_result"
    }
   ],
   "source": [
    "plot_histogram(counts)"
   ]
  },
  {
   "cell_type": "code",
   "execution_count": null,
   "id": "stretch-postcard",
   "metadata": {},
   "outputs": [],
   "source": []
  }
 ],
 "metadata": {
  "kernelspec": {
   "display_name": "Python 3",
   "language": "python",
   "name": "python3"
  },
  "language_info": {
   "codemirror_mode": {
    "name": "ipython",
    "version": 3
   },
   "file_extension": ".py",
   "mimetype": "text/x-python",
   "name": "python",
   "nbconvert_exporter": "python",
   "pygments_lexer": "ipython3",
   "version": "3.8.5"
  }
 },
 "nbformat": 4,
 "nbformat_minor": 5
}
