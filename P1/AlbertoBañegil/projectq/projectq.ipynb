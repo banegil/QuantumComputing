{
 "cells": [
  {
   "cell_type": "code",
   "execution_count": 1,
   "id": "fatty-times",
   "metadata": {},
   "outputs": [
    {
     "name": "stdout",
     "output_type": "stream",
     "text": [
      "Measured: 0\n"
     ]
    }
   ],
   "source": [
    "from projectq.ops import H, Measure\n",
    "from projectq import MainEngine\n",
    "\n",
    "# create a main compiler engine\n",
    "eng = MainEngine()\n",
    "\n",
    "# allocate one qubit\n",
    "q1 = eng.allocate_qubit()\n",
    "\n",
    "# put it in superposition\n",
    "H | q1\n",
    "\n",
    "# measure\n",
    "Measure | q1\n",
    "\n",
    "eng.flush()\n",
    "# print the result:\n",
    "print(\"Measured: {}\".format(int(q1)))"
   ]
  },
  {
   "cell_type": "code",
   "execution_count": null,
   "id": "excess-volume",
   "metadata": {},
   "outputs": [],
   "source": []
  }
 ],
 "metadata": {
  "kernelspec": {
   "display_name": "Python 3",
   "language": "python",
   "name": "python3"
  },
  "language_info": {
   "codemirror_mode": {
    "name": "ipython",
    "version": 3
   },
   "file_extension": ".py",
   "mimetype": "text/x-python",
   "name": "python",
   "nbconvert_exporter": "python",
   "pygments_lexer": "ipython3",
   "version": "3.8.5"
  }
 },
 "nbformat": 4,
 "nbformat_minor": 5
}
