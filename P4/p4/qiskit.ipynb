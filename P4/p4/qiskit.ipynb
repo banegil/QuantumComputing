{
 "cells": [
  {
   "cell_type": "code",
   "execution_count": 9,
   "id": "electrical-boutique",
   "metadata": {},
   "outputs": [
    {
     "name": "stderr",
     "output_type": "stream",
     "text": [
      "ibmqfactory.load_account:WARNING:2021-05-03 14:09:40,538: Credentials are already in use. The existing account in the session will be replaced.\n"
     ]
    },
    {
     "name": "stdout",
     "output_type": "stream",
     "text": [
      "Job Status: job has successfully run\n",
      "Real Device Result\n",
      "c0 = 0 (34 shots)\n",
      "c0 = 1 (990 shots)\n"
     ]
    }
   ],
   "source": [
    "#Algoritmo de Deutsch\n",
    "\n",
    "from qiskit import IBMQ, BasicAer\n",
    "from qiskit.providers.ibmq import least_busy\n",
    "from qiskit import QuantumCircuit, ClassicalRegister, QuantumRegister, execute\n",
    "from qiskit.tools.monitor import job_monitor\n",
    "from qiskit import *\n",
    "IBMQ.save_account('95d7606045a3360b89085d323d855372ccd4148396391fab24c3950349608575b7dff70964afc6803168bcedb1826fb3437c3e86658d447eccb9233795c8c3dc', overwrite=True)\n",
    "\n",
    "qr = QuantumRegister(2)  # Initialize two qubits\n",
    "cr = ClassicalRegister(2)  # Initialize two bits for record measurements\n",
    "circuit = QuantumCircuit(qr, cr)\n",
    "\n",
    "circuit.x(qr[1])  # initialize the ancilla qubit in the |1> state\n",
    "\n",
    "circuit.barrier()\n",
    "\n",
    "# First step of quantum algorithms - Prepare the superposition\n",
    "# For superposition, we apply the Hadamard gate on both qubits\n",
    "circuit.h(qr[0])\n",
    "circuit.h(qr[1])\n",
    "\n",
    "circuit.barrier()\n",
    "\n",
    "# Oracle function\n",
    "circuit.cx(qr[0], qr[1])\n",
    "\n",
    "circuit.barrier()\n",
    "\n",
    "# Apply Hadamard gates after querying oracle function\n",
    "circuit.h(qr[0])\n",
    "circuit.h(qr[1])\n",
    "\n",
    "circuit.barrier()\n",
    "\n",
    "# Measure qubit\n",
    "circuit.measure(qr[0], cr[0])\n",
    "\n",
    "\n",
    "\n",
    "# Run our circuit with real devices\n",
    "IBMQ.load_account()\n",
    "backend = provider.backends.ibmq_santiago\n",
    "shots = 1024\n",
    "job_exp = execute(circuit, backend=backend, shots=shots)\n",
    "job_monitor(job_exp, interval=2)\n",
    "results = job_exp.result()\n",
    "answer = results.get_counts(circuit)\n",
    "print(\"Real Device Result\")\n",
    "for c1c0 in answer:\n",
    "    print(f'c0 = {c1c0[1]} ({answer[c1c0]} shots)')"
   ]
  },
  {
   "cell_type": "code",
   "execution_count": 10,
   "id": "specified-multiple",
   "metadata": {},
   "outputs": [],
   "source": [
    "# C0 ose observa como '1' en 990 shots\n",
    "# Esto indica que f(0) != f(1), por lo tanto la funcion es constante. Aunque en la simulacion no se ve,\n",
    "# porque no estamos comparandola con una simulacion clasica, ni midiendo tiempos, ni aumentando el numero de shots\n",
    "# a un numero excesivamente grande, solo vemos reflejado que el algoritmo ha tenido exito, pero no su mejora\n",
    "# respecto a un algoritmo clasico, esta mejora consiste en que desde punto de vista teorico del algoritmo de\n",
    "# Deutsch, solo realizamos una consulta, mientras que en un computador clasico hariamos n consultas.\n",
    "# (Como en todos los casos de backend real, hay 34 shots de error, un 3% del total)"
   ]
  },
  {
   "cell_type": "code",
   "execution_count": 47,
   "id": "attractive-indicator",
   "metadata": {},
   "outputs": [],
   "source": [
    "#Oraculo de Deutsch-Jozsa\n",
    "def dj_oracle(case, n, number):\n",
    "    # We need to make a QuantumCircuit object to return\n",
    "    # This circuit has n+1 qubits: the size of the input,\n",
    "    # plus one output qubit\n",
    "    oracle_qc = QuantumCircuit(n+1)\n",
    "    \n",
    "    # First, let's deal with the case in which oracle is balanced\n",
    "    if case == \"balanced\":\n",
    "        # First generate a random number that tells us which CNOTs to\n",
    "        # wrap in X-gates:\n",
    "        b = np.random.randint(1,2**n)\n",
    "        # Next, format 'b' as a binary string of length 'n', padded with zeros:\n",
    "        b_str = format(b, '0'+str(n)+'b')\n",
    "        # Next, we place the first X-gates. Each digit in our binary string \n",
    "        for qubit in range(len(b_str)):\n",
    "            if b_str[qubit] == number:\n",
    "                oracle_qc.x(qubit)\n",
    "        # Do the controlled-NOT gates for each qubit, using the output qubit \n",
    "        # as the target:\n",
    "        for qubit in range(n):\n",
    "            oracle_qc.cx(qubit, n)\n",
    "        # Next, place the final X-gates\n",
    "        for qubit in range(len(b_str)):\n",
    "            if b_str[qubit] == number:\n",
    "                oracle_qc.x(qubit)\n",
    "\n",
    "    # Case in which oracle is constant\n",
    "    if case == \"constant\":\n",
    "        output = number\n",
    "        if output == 1:\n",
    "            oracle_qc.x(n)\n",
    "    \n",
    "    oracle_gate = oracle_qc.to_gate()\n",
    "    oracle_gate.name = \"Oracle\" # To show when we display the circuit\n",
    "    return oracle_gate"
   ]
  },
  {
   "cell_type": "code",
   "execution_count": 48,
   "id": "laden-fitness",
   "metadata": {},
   "outputs": [],
   "source": [
    "#Algoritmo de Deutsch-Jozsa\n",
    "def dj_algorithm(oracle, n):\n",
    "    dj_circuit = QuantumCircuit(n+1, n)\n",
    "    # Set up the output qubit:\n",
    "    dj_circuit.x(n)\n",
    "    dj_circuit.h(n)\n",
    "    # And set up the input register:\n",
    "    for qubit in range(n):\n",
    "        dj_circuit.h(qubit)\n",
    "    # Let's append the oracle gate to our circuit:\n",
    "    dj_circuit.append(oracle, range(n+1))\n",
    "    # Finally, perform the H-gates again and measure:\n",
    "    for qubit in range(n):\n",
    "        dj_circuit.h(qubit)\n",
    "    \n",
    "    for i in range(n):\n",
    "        dj_circuit.measure(i, i)\n",
    "    \n",
    "    return dj_circuit"
   ]
  },
  {
   "cell_type": "code",
   "execution_count": 57,
   "id": "happy-longer",
   "metadata": {},
   "outputs": [
    {
     "name": "stderr",
     "output_type": "stream",
     "text": [
      "ibmqfactory.load_account:WARNING:2021-05-03 18:42:08,055: Credentials are already in use. The existing account in the session will be replaced.\n"
     ]
    },
    {
     "name": "stdout",
     "output_type": "stream",
     "text": [
      "Job Status: job has successfully run\n",
      "Real Device Result\n",
      "c0 = 0 0 (32 shots)\n",
      "c0 = 0 1 (38 shots)\n",
      "c0 = 1 0 (41 shots)\n",
      "c0 = 1 1 (913 shots)\n"
     ]
    }
   ],
   "source": [
    "#2 qubits, funcion balanceada con entrada 0\n",
    "n = 2\n",
    "oracle_gate = dj_oracle('balanced', n, 0)\n",
    "dj_circuit = dj_algorithm(oracle_gate, n)\n",
    "dj_circuit.draw()\n",
    "\n",
    "IBMQ.load_account()\n",
    "backend = provider.backends.ibmq_athens\n",
    "shots = 1024\n",
    "job_exp = execute(dj_circuit, backend=backend, shots=shots)\n",
    "job_monitor(job_exp, interval=2)\n",
    "results = job_exp.result()\n",
    "answer = results.get_counts(dj_circuit)\n",
    "print(\"Real Device Result\")\n",
    "for c1c0 in answer:\n",
    "    print(f'c0 = {c1c0[0]} {c1c0[1]} ({answer[c1c0]} shots)')"
   ]
  },
  {
   "cell_type": "code",
   "execution_count": 58,
   "id": "hearing-hamburg",
   "metadata": {},
   "outputs": [
    {
     "name": "stdout",
     "output_type": "stream",
     "text": [
      "Job Status: job has successfully run\n",
      "Real Device Result\n",
      "c0 = 0 0 (27 shots)\n",
      "c0 = 0 1 (63 shots)\n",
      "c0 = 1 0 (28 shots)\n",
      "c0 = 1 1 (906 shots)\n"
     ]
    }
   ],
   "source": [
    "#2 qubits, funcion balanceada con entrada 1\n",
    "n = 2\n",
    "oracle_gate = dj_oracle('balanced', n, 1)\n",
    "dj_circuit = dj_algorithm(oracle_gate, n)\n",
    "dj_circuit.draw()\n",
    "\n",
    "backend = provider.backends.ibmq_athens\n",
    "shots = 1024\n",
    "job_exp = execute(dj_circuit, backend=backend, shots=shots)\n",
    "job_monitor(job_exp, interval=2)\n",
    "results = job_exp.result()\n",
    "answer = results.get_counts(dj_circuit)\n",
    "print(\"Real Device Result\")\n",
    "for c1c0 in answer:\n",
    "    print(f'c0 = {c1c0[0]} {c1c0[1]} ({answer[c1c0]} shots)')"
   ]
  },
  {
   "cell_type": "code",
   "execution_count": 56,
   "id": "resistant-moscow",
   "metadata": {},
   "outputs": [
    {
     "name": "stdout",
     "output_type": "stream",
     "text": [
      "Job Status: job has successfully run\n",
      "Real Device Result\n",
      "c0 = 0 0 0 (38 shots)\n",
      "c0 = 0 0 1 (26 shots)\n",
      "c0 = 0 1 0 (8 shots)\n",
      "c0 = 0 1 1 (117 shots)\n",
      "c0 = 1 0 0 (21 shots)\n",
      "c0 = 1 0 1 (39 shots)\n",
      "c0 = 1 1 0 (24 shots)\n",
      "c0 = 1 1 1 (751 shots)\n"
     ]
    }
   ],
   "source": [
    "#3 qubits, funcion balanceada con entrada 0\n",
    "n = 3\n",
    "oracle_gate = dj_oracle('balanced', n, 0)\n",
    "dj_circuit = dj_algorithm(oracle_gate, n)\n",
    "dj_circuit.draw()\n",
    "\n",
    "backend = provider.backends.ibmq_athens\n",
    "shots = 1024\n",
    "job_exp = execute(dj_circuit, backend=backend, shots=shots)\n",
    "job_monitor(job_exp, interval=2)\n",
    "results = job_exp.result()\n",
    "answer = results.get_counts(dj_circuit)\n",
    "print(\"Real Device Result\")\n",
    "for c1c0 in answer:\n",
    "    print(f'c0 = {c1c0[0]} {c1c0[1]} {c1c0[2]} ({answer[c1c0]} shots)')"
   ]
  },
  {
   "cell_type": "code",
   "execution_count": 59,
   "id": "criminal-probe",
   "metadata": {},
   "outputs": [
    {
     "name": "stdout",
     "output_type": "stream",
     "text": [
      "Job Status: job has successfully run\n",
      "Real Device Result\n",
      "c0 = 0 0 0 (26 shots)\n",
      "c0 = 0 0 1 (27 shots)\n",
      "c0 = 0 1 0 (21 shots)\n",
      "c0 = 0 1 1 (128 shots)\n",
      "c0 = 1 0 0 (20 shots)\n",
      "c0 = 1 0 1 (41 shots)\n",
      "c0 = 1 1 0 (40 shots)\n",
      "c0 = 1 1 1 (721 shots)\n"
     ]
    }
   ],
   "source": [
    "#3 qubits, funcion balanceada con entrada 1\n",
    "n = 3\n",
    "oracle_gate = dj_oracle('balanced', n, 1)\n",
    "dj_circuit = dj_algorithm(oracle_gate, n)\n",
    "dj_circuit.draw()\n",
    "\n",
    "backend = provider.backends.ibmq_athens\n",
    "shots = 1024\n",
    "job_exp = execute(dj_circuit, backend=backend, shots=shots)\n",
    "job_monitor(job_exp, interval=2)\n",
    "results = job_exp.result()\n",
    "answer = results.get_counts(dj_circuit)\n",
    "print(\"Real Device Result\")\n",
    "for c1c0 in answer:\n",
    "    print(f'c0 = {c1c0[0]} {c1c0[1]} {c1c0[2]} ({answer[c1c0]} shots)')"
   ]
  },
  {
   "cell_type": "code",
   "execution_count": 60,
   "id": "olympic-olive",
   "metadata": {},
   "outputs": [
    {
     "name": "stderr",
     "output_type": "stream",
     "text": [
      "ibmqfactory.load_account:WARNING:2021-05-03 19:14:10,167: Credentials are already in use. The existing account in the session will be replaced.\n"
     ]
    },
    {
     "name": "stdout",
     "output_type": "stream",
     "text": [
      "Job Status: job has successfully run\n",
      "Real Device Result\n",
      "c0 = 0 0 0 (1014 shots)\n",
      "c0 = 0 0 1 (5 shots)\n",
      "c0 = 0 1 0 (3 shots)\n",
      "c0 = 1 0 0 (2 shots)\n"
     ]
    }
   ],
   "source": [
    "#3 qubits, funcion constante con entrada 0\n",
    "n = 3\n",
    "oracle_gate = dj_oracle('constant', n, 0)\n",
    "dj_circuit = dj_algorithm(oracle_gate, n)\n",
    "dj_circuit.draw()\n",
    "\n",
    "IBMQ.load_account()\n",
    "backend = provider.backends.ibmq_athens\n",
    "shots = 1024\n",
    "job_exp = execute(dj_circuit, backend=backend, shots=shots)\n",
    "job_monitor(job_exp, interval=2)\n",
    "results = job_exp.result()\n",
    "answer = results.get_counts(dj_circuit)\n",
    "print(\"Real Device Result\")\n",
    "for c1c0 in answer:\n",
    "    print(f'c0 = {c1c0[0]} {c1c0[1]} {c1c0[2]} ({answer[c1c0]} shots)')"
   ]
  },
  {
   "cell_type": "code",
   "execution_count": 61,
   "id": "unable-benchmark",
   "metadata": {},
   "outputs": [
    {
     "name": "stderr",
     "output_type": "stream",
     "text": [
      "ibmqfactory.load_account:WARNING:2021-05-03 19:18:02,253: Credentials are already in use. The existing account in the session will be replaced.\n"
     ]
    },
    {
     "name": "stdout",
     "output_type": "stream",
     "text": [
      "Job Status: job has successfully run\n",
      "Real Device Result\n",
      "c0 = 0 0 0 (1011 shots)\n",
      "c0 = 0 0 1 (6 shots)\n",
      "c0 = 0 1 0 (1 shots)\n",
      "c0 = 1 0 0 (6 shots)\n"
     ]
    }
   ],
   "source": [
    "#3 qubits, funcion constante con entrada 1\n",
    "n = 3\n",
    "oracle_gate = dj_oracle('constant', n, 1)\n",
    "dj_circuit = dj_algorithm(oracle_gate, n)\n",
    "dj_circuit.draw()\n",
    "\n",
    "IBMQ.load_account()\n",
    "backend = provider.backends.ibmq_athens\n",
    "shots = 1024\n",
    "job_exp = execute(dj_circuit, backend=backend, shots=shots)\n",
    "job_monitor(job_exp, interval=2)\n",
    "results = job_exp.result()\n",
    "answer = results.get_counts(dj_circuit)\n",
    "print(\"Real Device Result\")\n",
    "for c1c0 in answer:\n",
    "    print(f'c0 = {c1c0[0]} {c1c0[1]} {c1c0[2]} ({answer[c1c0]} shots)')"
   ]
  },
  {
   "cell_type": "code",
   "execution_count": null,
   "id": "solar-navigation",
   "metadata": {},
   "outputs": [],
   "source": [
    "# Como podemos observar, en donde la funcion es constante, independientemente del valor de entrada, la salida \n",
    "# siempre es '00' en el caso de 2 qubits y '000' en el caso de 3 qubits, por lo que el resultado es correcto.\n",
    "# La funcion esta parametrizada en 3 sentidos, primero en el numero de qubits, para que sea escalable, segundo \n",
    "# en la eleccion de que sea constante o balanceada y tercera en el valor de entrada para el oraculo.\n",
    "# En los casos donde la salida es '11' en el caso de 2 qubits y '111' para 3 qubits significa que la funcion\n",
    "# significa que la funcion es balanceada, cosa que concuerda con todos los ejemplos ejecutados anteriormente\n",
    "# (Como en todos los casos de backend real, hay shots de error, siendo los de 2 qubits entorno a 5%-10% y de 3\n",
    "# qubits entorno al 20%-25% de error)"
   ]
  }
 ],
 "metadata": {
  "kernelspec": {
   "display_name": "Python 3",
   "language": "python",
   "name": "python3"
  },
  "language_info": {
   "codemirror_mode": {
    "name": "ipython",
    "version": 3
   },
   "file_extension": ".py",
   "mimetype": "text/x-python",
   "name": "python",
   "nbconvert_exporter": "python",
   "pygments_lexer": "ipython3",
   "version": "3.8.5"
  }
 },
 "nbformat": 4,
 "nbformat_minor": 5
}
