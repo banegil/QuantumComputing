{
 "cells": [
  {
   "cell_type": "code",
   "execution_count": 12,
   "id": "cooked-certificate",
   "metadata": {},
   "outputs": [],
   "source": [
    "from pyquil.quil import Program\n",
    "import pyquil.api as api\n",
    "from pyquil.gates import *\n",
    "import numpy as np"
   ]
  },
  {
   "cell_type": "code",
   "execution_count": 13,
   "id": "circular-command",
   "metadata": {},
   "outputs": [
    {
     "name": "stdout",
     "output_type": "stream",
     "text": [
      "(-0.7071067812+0j)|10> + (0.7071067812+0j)|11>\n",
      "{'00': 0.0, '01': 0.0, '10': 0.4999999999999998, '11': 0.4999999999999998}\n"
     ]
    }
   ],
   "source": [
    "#Algoritmo de Deutsch\n",
    "p = Program()\n",
    "\n",
    "# Define U_f for each of (a), (b), (c) and (d)\n",
    "p.defgate(\"U_f_a\", np.array([[1, 0, 0, 0], [0, 1, 0, 0], [0, 0, 1, 0], [0, 0, 0, 1]]))\n",
    "p.defgate(\"U_f_b\", np.array([[0, 1, 0, 0], [1, 0, 0, 0], [0, 0, 0, 1], [0, 0, 1, 0]]))\n",
    "p.defgate(\"U_f_c\", np.array([[1, 0, 0, 0], [0, 1, 0, 0], [0, 0, 0, 1], [0, 0, 1, 0]]))\n",
    "p.defgate(\"U_f_d\", np.array([[0, 1, 0, 0], [1, 0, 0, 0], [0, 0, 1, 0], [0, 0, 0, 1]]))\n",
    "\n",
    "# Prepare the starting state |0> x (1/sqrt[2]) *  (|0> - |1>)\n",
    "p.inst(I(1))\n",
    "p.inst(X(0))\n",
    "p.inst(H(0))\n",
    "\n",
    "# Apply H\n",
    "p.inst(H(1))\n",
    "\n",
    "# Apply U_f (oraculo)\n",
    "p.inst((\"U_f_d\", 1, 0))\n",
    "\n",
    "# Apply final H gate\n",
    "p.inst(H(1))\n",
    "\n",
    "quantum_simulator = api.QVMConnection()\n",
    "wavefunc = quantum_simulator.wavefunction(p)\n",
    "print (wavefunc)\n",
    "print (wavefunc.get_outcome_probs())\n",
    "\n",
    "# La salida da a '10' un 0% de probabilidad y a '11' otro 50%, es correcta ya que hemos implementado un oraculo\n",
    "# f(x) de 1 y 0 en cada respectivo qubit, ademas hemos definido las puertas de la siguiente manera\n",
    "# (a) f(0) = 0 ; f(1) = 0\n",
    "# (b) f(0) = 1 ; f(1) = 1\n",
    "# (c) f(0) = 0 ; f(1) = 1\n",
    "# (d) f(0) = 1 ; f(1) = 0\n"
   ]
  },
  {
   "cell_type": "code",
   "execution_count": 14,
   "id": "relevant-attachment",
   "metadata": {},
   "outputs": [],
   "source": [
    "import itertools\n",
    "import numpy as np\n",
    "import pyquil.api as api\n",
    "from pyquil.gates import *\n",
    "from pyquil.quil import Program"
   ]
  },
  {
   "cell_type": "code",
   "execution_count": 15,
   "id": "finite-trance",
   "metadata": {},
   "outputs": [
    {
     "data": {
      "text/plain": [
       "['000', '001', '010', '011', '100', '101', '110', '111']"
      ]
     },
     "execution_count": 15,
     "metadata": {},
     "output_type": "execute_result"
    }
   ],
   "source": [
    "def qubit_strings(n):\n",
    "    qubit_strings = []\n",
    "    for q in itertools.product(['0', '1'], repeat=n):\n",
    "        qubit_strings.append(''.join(q))\n",
    "    return qubit_strings\n",
    "\n",
    "qubit_strings(3)\n",
    "\n",
    "#creamos todas las combinaciones posibles"
   ]
  },
  {
   "cell_type": "code",
   "execution_count": 16,
   "id": "split-inspiration",
   "metadata": {},
   "outputs": [],
   "source": [
    "# f(x), en n qubits representados por el vector x\n",
    "\n",
    "def black_box_map(n, balanced):\n",
    "    qubs = qubit_strings(n)\n",
    "\n",
    "    # assign a constant value to all inputs if not balanced\n",
    "    if not balanced:\n",
    "        const_value = np.random.choice([0, 1])\n",
    "        d_blackbox = {q: const_value for q in qubs}\n",
    "\n",
    "    # assign 0 to half the inputs, and 1 to the other inputs if balanced\n",
    "    if balanced:\n",
    "        # randomly pick half the inputs\n",
    "        half_inputs = np.random.choice(qubs, size=int(len(qubs)/2), replace=False)\n",
    "        d_blackbox = {q_half: 0 for q_half in half_inputs}\n",
    "        d_blackbox_other_half = {q_other_half: 1 for q_other_half in set(qubs) - set(half_inputs)}\n",
    "        d_blackbox.update(d_blackbox_other_half)\n",
    "    \n",
    "    return d_blackbox\n",
    "\n"
   ]
  },
  {
   "cell_type": "code",
   "execution_count": 17,
   "id": "bound-botswana",
   "metadata": {},
   "outputs": [],
   "source": [
    "# Base Ket a partir de una cadena de n bits especificada por la entrada 'qub_string', p. Ej. '001' -> | 001>\n",
    "\n",
    "def qubit_ket(qub_string):\n",
    "    e0 = np.array([[1], [0]])\n",
    "    e1 = np.array([[0], [1]])\n",
    "    d_qubstring = {'0': e0, '1': e1}\n",
    "\n",
    "    # initialize ket\n",
    "    ket = d_qubstring[qub_string[0]]\n",
    "    for i in range(1, len(qub_string)):\n",
    "        ket = np.kron(ket, d_qubstring[qub_string[i]])\n",
    "    \n",
    "    return ket"
   ]
  },
  {
   "cell_type": "code",
   "execution_count": 18,
   "id": "attempted-registrar",
   "metadata": {},
   "outputs": [],
   "source": [
    "# Crea un operador de proyeccion a partir del elemento base especificado por 'qub_string', p. Ej.\n",
    "# '101' -> | 101> <101 |\n",
    "\n",
    "def projection_op(qub_string):\n",
    "    ket = qubit_ket(qub_string)\n",
    "    bra = np.transpose(ket)  # all entries real, so no complex conjugation necessary\n",
    "    proj = np.kron(ket, bra)\n",
    "    return proj\n",
    "\n"
   ]
  },
  {
   "cell_type": "code",
   "execution_count": 19,
   "id": "north-forestry",
   "metadata": {},
   "outputs": [],
   "source": [
    "# Representacion unitaria del operador de caja negra en (n + 1) -qubits\n",
    "\n",
    "def black_box(n, balanced):\n",
    "\n",
    "    d_bb = black_box_map(n, balanced=balanced)\n",
    "    # initialize unitary matrix\n",
    "    N = 2**(n+1)\n",
    "    unitary_rep = np.zeros(shape=(N, N))\n",
    "    # populate unitary matrix\n",
    "    for k, v in d_bb.items():\n",
    "        unitary_rep += np.kron(projection_op(k), np.eye(2) + v*(-np.eye(2) + np.array([[0, 1], [1, 0]])))\n",
    "        \n",
    "    return unitary_rep\n",
    "\n"
   ]
  },
  {
   "cell_type": "code",
   "execution_count": 23,
   "id": "frozen-classic",
   "metadata": {},
   "outputs": [
    {
     "name": "stdout",
     "output_type": "stream",
     "text": [
      "Function is constant\n"
     ]
    }
   ],
   "source": [
    "#2 qubits funcion constante\n",
    "p = Program()\n",
    "\n",
    "# pick number of control qubits to be used\n",
    "n = 2\n",
    "\n",
    "# Define U_f\n",
    "p.defgate(\"U_f\", black_box(n, balanced=False))\n",
    "\n",
    "# Prepare the starting state |0>^(\\otimes n) x (1/sqrt[2])*(|0> - |1>)\n",
    "for n_ in range(1, n+1):\n",
    "    p.inst(I(n_))\n",
    "p.inst(X(0))\n",
    "p.inst(H(0))\n",
    "\n",
    "# Apply H^(\\otimes n)\n",
    "for n_ in range(1, n+1):\n",
    "    p.inst(H(n_))\n",
    "\n",
    "# Apply U_f\n",
    "p.inst((\"U_f\",) + tuple(range(n+1)[::-1]))\n",
    "\n",
    "# Apply final H^(\\otimes n)\n",
    "for n_ in range(1, n+1):\n",
    "    p.inst(H(n_))\n",
    "\n",
    "# Final measurement\n",
    "classical_regs = list(range(n))\n",
    "for i, n_ in enumerate(list(range(1, n+1))[::-1]):\n",
    "    p.measure(n_, classical_regs[i])\n",
    "\n",
    "qvm = api.QVMConnection()\n",
    "measure_n_qubits = qvm.run(p, classical_regs)\n",
    "\n",
    "# flatten out list\n",
    "measure_n_qubits = [item for sublist in measure_n_qubits for item in sublist]\n",
    "\n",
    "# Determine if function is balanced or not\n",
    "if set(measure_n_qubits) == set([0, 1]):\n",
    "    print (\"Function is balanced\")\n",
    "elif set(measure_n_qubits) == set([0]):\n",
    "    print (\"Function is constant\")"
   ]
  },
  {
   "cell_type": "code",
   "execution_count": 24,
   "id": "rubber-strain",
   "metadata": {},
   "outputs": [
    {
     "name": "stdout",
     "output_type": "stream",
     "text": [
      "Function is constant\n"
     ]
    }
   ],
   "source": [
    "#3 qubits funcion constante\n",
    "p = Program()\n",
    "\n",
    "# pick number of control qubits to be used\n",
    "n = 3\n",
    "\n",
    "# Define U_f\n",
    "p.defgate(\"U_f\", black_box(n, balanced=False))\n",
    "\n",
    "# Prepare the starting state |0>^(\\otimes n) x (1/sqrt[2])*(|0> - |1>)\n",
    "for n_ in range(1, n+1):\n",
    "    p.inst(I(n_))\n",
    "p.inst(X(0))\n",
    "p.inst(H(0))\n",
    "\n",
    "# Apply H^(\\otimes n)\n",
    "for n_ in range(1, n+1):\n",
    "    p.inst(H(n_))\n",
    "\n",
    "# Apply U_f\n",
    "p.inst((\"U_f\",) + tuple(range(n+1)[::-1]))\n",
    "\n",
    "# Apply final H^(\\otimes n)\n",
    "for n_ in range(1, n+1):\n",
    "    p.inst(H(n_))\n",
    "\n",
    "# Final measurement\n",
    "classical_regs = list(range(n))\n",
    "for i, n_ in enumerate(list(range(1, n+1))[::-1]):\n",
    "    p.measure(n_, classical_regs[i])\n",
    "\n",
    "qvm = api.QVMConnection()\n",
    "measure_n_qubits = qvm.run(p, classical_regs)\n",
    "\n",
    "# flatten out list\n",
    "measure_n_qubits = [item for sublist in measure_n_qubits for item in sublist]\n",
    "\n",
    "# Determine if function is balanced or not\n",
    "if set(measure_n_qubits) == set([0, 1]):\n",
    "    print (\"Function is balanced\")\n",
    "elif set(measure_n_qubits) == set([0]):\n",
    "    print (\"Function is constant\")"
   ]
  },
  {
   "cell_type": "code",
   "execution_count": 25,
   "id": "novel-israeli",
   "metadata": {},
   "outputs": [
    {
     "name": "stdout",
     "output_type": "stream",
     "text": [
      "Function is balanced\n"
     ]
    }
   ],
   "source": [
    "#2 qubits funcion constante\n",
    "p = Program()\n",
    "\n",
    "# pick number of control qubits to be used\n",
    "n = 2\n",
    "\n",
    "# Define U_f\n",
    "p.defgate(\"U_f\", black_box(n, balanced=True))\n",
    "\n",
    "# Prepare the starting state |0>^(\\otimes n) x (1/sqrt[2])*(|0> - |1>)\n",
    "for n_ in range(1, n+1):\n",
    "    p.inst(I(n_))\n",
    "p.inst(X(0))\n",
    "p.inst(H(0))\n",
    "\n",
    "# Apply H^(\\otimes n)\n",
    "for n_ in range(1, n+1):\n",
    "    p.inst(H(n_))\n",
    "\n",
    "# Apply U_f\n",
    "p.inst((\"U_f\",) + tuple(range(n+1)[::-1]))\n",
    "\n",
    "# Apply final H^(\\otimes n)\n",
    "for n_ in range(1, n+1):\n",
    "    p.inst(H(n_))\n",
    "\n",
    "# Final measurement\n",
    "classical_regs = list(range(n))\n",
    "for i, n_ in enumerate(list(range(1, n+1))[::-1]):\n",
    "    p.measure(n_, classical_regs[i])\n",
    "\n",
    "qvm = api.QVMConnection()\n",
    "measure_n_qubits = qvm.run(p, classical_regs)\n",
    "\n",
    "# flatten out list\n",
    "measure_n_qubits = [item for sublist in measure_n_qubits for item in sublist]\n",
    "\n",
    "# Determine if function is balanced or not\n",
    "if set(measure_n_qubits) == set([0, 1]):\n",
    "    print (\"Function is balanced\")\n",
    "elif set(measure_n_qubits) == set([0]):\n",
    "    print (\"Function is constant\")"
   ]
  },
  {
   "cell_type": "code",
   "execution_count": 26,
   "id": "internal-college",
   "metadata": {},
   "outputs": [
    {
     "name": "stdout",
     "output_type": "stream",
     "text": [
      "Function is balanced\n"
     ]
    }
   ],
   "source": [
    "#2 qubits funcion constante\n",
    "p = Program()\n",
    "\n",
    "# pick number of control qubits to be used\n",
    "n = 3\n",
    "\n",
    "# Define U_f\n",
    "p.defgate(\"U_f\", black_box(n, balanced=True))\n",
    "\n",
    "# Prepare the starting state |0>^(\\otimes n) x (1/sqrt[2])*(|0> - |1>)\n",
    "for n_ in range(1, n+1):\n",
    "    p.inst(I(n_))\n",
    "p.inst(X(0))\n",
    "p.inst(H(0))\n",
    "\n",
    "# Apply H^(\\otimes n)\n",
    "for n_ in range(1, n+1):\n",
    "    p.inst(H(n_))\n",
    "\n",
    "# Apply U_f\n",
    "p.inst((\"U_f\",) + tuple(range(n+1)[::-1]))\n",
    "\n",
    "# Apply final H^(\\otimes n)\n",
    "for n_ in range(1, n+1):\n",
    "    p.inst(H(n_))\n",
    "\n",
    "# Final measurement\n",
    "classical_regs = list(range(n))\n",
    "for i, n_ in enumerate(list(range(1, n+1))[::-1]):\n",
    "    p.measure(n_, classical_regs[i])\n",
    "\n",
    "qvm = api.QVMConnection()\n",
    "measure_n_qubits = qvm.run(p, classical_regs)\n",
    "\n",
    "# flatten out list\n",
    "measure_n_qubits = [item for sublist in measure_n_qubits for item in sublist]\n",
    "\n",
    "# Determine if function is balanced or not\n",
    "if set(measure_n_qubits) == set([0, 1]):\n",
    "    print (\"Function is balanced\")\n",
    "elif set(measure_n_qubits) == set([0]):\n",
    "    print (\"Function is constant\")"
   ]
  },
  {
   "cell_type": "code",
   "execution_count": null,
   "id": "compatible-singing",
   "metadata": {},
   "outputs": [],
   "source": [
    "# Como podemos observar, primero determinamos el oraculo que queremos implementar, al ser una funcion parametrizada\n",
    "# es muy facil poner el numero de qubits que queremos que tenga nuestra implementacion, y tambien tenemos\n",
    "# parametrizado si queremos que sea balanceada o constante, para así luego simplemente comprobarlo al final con\n",
    "# la funcion set(), que comprueba si es todo 0s (constante) o no (balanceada).\n",
    "# La funcion implementada f: {0, 1} ^ n -> {0, 1} puede ser constante (igual al mismo valor para todas sus \n",
    "# entradas) o balanceada (igual a un valor para exactamente la mitad de sus entradas y el otro valor para\n",
    "# precisamente la otra mitad de sus entradas)."
   ]
  }
 ],
 "metadata": {
  "kernelspec": {
   "display_name": "Python 3",
   "language": "python",
   "name": "python3"
  },
  "language_info": {
   "codemirror_mode": {
    "name": "ipython",
    "version": 3
   },
   "file_extension": ".py",
   "mimetype": "text/x-python",
   "name": "python",
   "nbconvert_exporter": "python",
   "pygments_lexer": "ipython3",
   "version": "3.8.5"
  }
 },
 "nbformat": 4,
 "nbformat_minor": 5
}
