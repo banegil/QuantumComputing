{
 "cells": [
  {
   "cell_type": "code",
   "execution_count": 13,
   "id": "instant-service",
   "metadata": {},
   "outputs": [],
   "source": [
    "from pytket.qasm import circuit_from_qasm\n",
    "\n",
    "c = circuit_from_qasm(\"draper.qasm\")"
   ]
  },
  {
   "cell_type": "code",
   "execution_count": 14,
   "id": "excess-morris",
   "metadata": {},
   "outputs": [
    {
     "name": "stdout",
     "output_type": "stream",
     "text": [
      "Counter({(1, 1, 0, 0): 217, (0, 0, 0, 1): 145, (1, 1, 1, 0): 101, (1, 0, 1, 1): 97, (0, 1, 1, 0): 83, (0, 0, 1, 0): 70, (1, 0, 0, 1): 70, (1, 1, 1, 1): 60, (1, 0, 1, 0): 43, (0, 0, 1, 1): 39, (1, 1, 0, 1): 26, (0, 1, 0, 0): 23, (0, 1, 0, 1): 13, (0, 0, 0, 0): 12, (0, 1, 1, 1): 1})\n"
     ]
    }
   ],
   "source": [
    "#implementamos una AQFT, despues la misma AQFT pero cambiando puerta H por Z, y por ultimo aplicamos la inversa\n",
    "from pytket.backends.ibm import AerBackend\n",
    "b = AerBackend()\n",
    "b.compile_circuit(c)\n",
    "handle = b.process_circuit(c, 1000)\n",
    "result = b.get_result(handle)\n",
    "counts = result.get_counts()\n",
    "print(counts)"
   ]
  },
  {
   "cell_type": "code",
   "execution_count": null,
   "id": "golden-damage",
   "metadata": {},
   "outputs": [],
   "source": []
  }
 ],
 "metadata": {
  "kernelspec": {
   "display_name": "Python 3",
   "language": "python",
   "name": "python3"
  },
  "language_info": {
   "codemirror_mode": {
    "name": "ipython",
    "version": 3
   },
   "file_extension": ".py",
   "mimetype": "text/x-python",
   "name": "python",
   "nbconvert_exporter": "python",
   "pygments_lexer": "ipython3",
   "version": "3.8.5"
  }
 },
 "nbformat": 4,
 "nbformat_minor": 5
}
