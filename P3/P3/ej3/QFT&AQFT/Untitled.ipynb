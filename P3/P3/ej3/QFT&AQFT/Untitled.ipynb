{
 "cells": [
  {
   "cell_type": "code",
   "execution_count": 61,
   "metadata": {},
   "outputs": [],
   "source": [
    "import numpy as np\n",
    "from numpy import pi\n",
    "# importing Qiskit\n",
    "from qiskit import QuantumCircuit, transpile, assemble, Aer, IBMQ\n",
    "from qiskit.providers.ibmq import least_busy\n",
    "from qiskit.tools.monitor import job_monitor\n",
    "from qiskit.visualization import plot_histogram, plot_bloch_multivector\n",
    "\n",
    "def qft_rotations(circuit, n):\n",
    "    \"\"\"Performs qft on the first n qubits in circuit (without swaps)\"\"\"\n",
    "    if n == 0:\n",
    "        return circuit\n",
    "    n -= 1\n",
    "    circuit.h(n)\n",
    "    for qubit in range(n):\n",
    "        circuit.cp(pi/2**(n-qubit), qubit, n)\n",
    "    # At the end of our function, we call the same function again on\n",
    "    # the next qubits (we reduced n by one earlier in the function)\n",
    "    qft_rotations(circuit, n)  \n",
    "\n",
    "def swap_registers(circuit, n):\n",
    "    for qubit in range(n//2):\n",
    "        circuit.swap(qubit, n-qubit-1)\n",
    "    return circuit\n",
    "\n",
    "def qft(circuit, n):\n",
    "    \"\"\"QFT on the first n qubits in circuit\"\"\"\n",
    "    qft_rotations(circuit, n)\n",
    "    swap_registers(circuit, n)\n",
    "    return circuit\n",
    "\n",
    "def inverse_qft(circuit, n):\n",
    "    \"\"\"Does the inverse QFT on the first n qubits in circuit\"\"\"\n",
    "    # First we create a QFT circuit of the correct size:\n",
    "    qft_circ = qft(QuantumCircuit(n), n)\n",
    "    # Then we take the inverse of this circuit\n",
    "    invqft_circ = qft_circ.inverse()\n",
    "    # And add it to the first n qubits in our existing circuit\n",
    "    circuit.append(invqft_circ, circuit.qubits[:n])\n",
    "    return circuit.decompose() # .decompose() allows us to see the individual gates"
   ]
  },
  {
   "cell_type": "code",
   "execution_count": 62,
   "metadata": {},
   "outputs": [
    {
     "data": {
      "text/html": [
       "<pre style=\"word-wrap: normal;white-space: pre;background: #fff0;line-height: 1.1;font-family: &quot;Courier New&quot;,Courier,monospace\">     ┌───┐┌─────────┐\n",
       "q_0: ┤ H ├┤ P(7π/8) ├\n",
       "     ├───┤├─────────┤\n",
       "q_1: ┤ H ├┤ P(7π/4) ├\n",
       "     ├───┤├─────────┤\n",
       "q_2: ┤ H ├┤ P(7π/2) ├\n",
       "     ├───┤└┬───────┬┘\n",
       "q_3: ┤ H ├─┤ P(7π) ├─\n",
       "     └───┘ └───────┘ </pre>"
      ],
      "text/plain": [
       "     ┌───┐┌─────────┐\n",
       "q_0: ┤ H ├┤ P(7π/8) ├\n",
       "     ├───┤├─────────┤\n",
       "q_1: ┤ H ├┤ P(7π/4) ├\n",
       "     ├───┤├─────────┤\n",
       "q_2: ┤ H ├┤ P(7π/2) ├\n",
       "     ├───┤└┬───────┬┘\n",
       "q_3: ┤ H ├─┤ P(7π) ├─\n",
       "     └───┘ └───────┘ "
      ]
     },
     "execution_count": 62,
     "metadata": {},
     "output_type": "execute_result"
    }
   ],
   "source": [
    "#Metemos un numero de prueba, el 7 ene ste caso, para probar que funciona\n",
    "nqubits = 4\n",
    "number = 7\n",
    "qc = QuantumCircuit(nqubits)\n",
    "for qubit in range(nqubits):\n",
    "    qc.h(qubit)\n",
    "qc.p(number*pi/8,0)\n",
    "qc.p(number*pi/4,1)\n",
    "qc.p(number*pi/2,2)\n",
    "qc.p(number*pi,3)\n",
    "\n",
    "qc.draw()"
   ]
  },
  {
   "cell_type": "code",
   "execution_count": 63,
   "metadata": {},
   "outputs": [
    {
     "data": {
      "text/html": [
       "<pre style=\"word-wrap: normal;white-space: pre;background: #fff0;line-height: 1.1;font-family: &quot;Courier New&quot;,Courier,monospace\">        ┌─────────┐┌─────────────┐      ┌───┐                           »\n",
       "   q_0: ┤ U2(0,π) ├┤ U(0,0,7π/8) ├────X─┤ H ├─────■─────────────────────»\n",
       "        ├─────────┤├─────────────┤    │ └───┘┌────┴────┐┌───┐           »\n",
       "   q_1: ┤ U2(0,π) ├┤ U(0,0,7π/4) ├─X──┼──────┤ P(-π/2) ├┤ H ├─────■─────»\n",
       "        ├─────────┤├─────────────┤ │  │      └─────────┘└───┘┌────┴────┐»\n",
       "   q_2: ┤ U2(0,π) ├┤ U(0,0,7π/2) ├─X──┼──────────────────────┤ P(-π/2) ├»\n",
       "        ├─────────┤└┬───────────┬┘    │                      └─────────┘»\n",
       "   q_3: ┤ U2(0,π) ├─┤ U(0,0,7π) ├─────X─────────────────────────────────»\n",
       "        └─────────┘ └───────────┘                                       »\n",
       "meas: 4/════════════════════════════════════════════════════════════════»\n",
       "                                                                        »\n",
       "«                                                               ░ ┌─┐         \n",
       "«   q_0: ─────■─────────────────────────────────────■───────────░─┤M├─────────\n",
       "«             │                                     │           ░ └╥┘┌─┐      \n",
       "«   q_1: ─────┼──────────────────────────■──────────┼───────────░──╫─┤M├──────\n",
       "«        ┌────┴────┐┌───┐                │          │           ░  ║ └╥┘┌─┐   \n",
       "«   q_2: ┤ P(-π/4) ├┤ H ├─────■──────────┼──────────┼───────────░──╫──╫─┤M├───\n",
       "«        └─────────┘└───┘┌────┴────┐┌────┴────┐┌────┴────┐┌───┐ ░  ║  ║ └╥┘┌─┐\n",
       "«   q_3: ────────────────┤ P(-π/2) ├┤ P(-π/4) ├┤ P(-π/8) ├┤ H ├─░──╫──╫──╫─┤M├\n",
       "«                        └─────────┘└─────────┘└─────────┘└───┘ ░  ║  ║  ║ └╥┘\n",
       "«meas: 4/══════════════════════════════════════════════════════════╩══╩══╩══╩═\n",
       "«                                                                  0  1  2  3 </pre>"
      ],
      "text/plain": [
       "        ┌─────────┐┌─────────────┐      ┌───┐                           »\n",
       "   q_0: ┤ U2(0,π) ├┤ U(0,0,7π/8) ├────X─┤ H ├─────■─────────────────────»\n",
       "        ├─────────┤├─────────────┤    │ └───┘┌────┴────┐┌───┐           »\n",
       "   q_1: ┤ U2(0,π) ├┤ U(0,0,7π/4) ├─X──┼──────┤ P(-π/2) ├┤ H ├─────■─────»\n",
       "        ├─────────┤├─────────────┤ │  │      └─────────┘└───┘┌────┴────┐»\n",
       "   q_2: ┤ U2(0,π) ├┤ U(0,0,7π/2) ├─X──┼──────────────────────┤ P(-π/2) ├»\n",
       "        ├─────────┤└┬───────────┬┘    │                      └─────────┘»\n",
       "   q_3: ┤ U2(0,π) ├─┤ U(0,0,7π) ├─────X─────────────────────────────────»\n",
       "        └─────────┘ └───────────┘                                       »\n",
       "meas: 4/════════════════════════════════════════════════════════════════»\n",
       "                                                                        »\n",
       "«                                                               ░ ┌─┐         \n",
       "«   q_0: ─────■─────────────────────────────────────■───────────░─┤M├─────────\n",
       "«             │                                     │           ░ └╥┘┌─┐      \n",
       "«   q_1: ─────┼──────────────────────────■──────────┼───────────░──╫─┤M├──────\n",
       "«        ┌────┴────┐┌───┐                │          │           ░  ║ └╥┘┌─┐   \n",
       "«   q_2: ┤ P(-π/4) ├┤ H ├─────■──────────┼──────────┼───────────░──╫──╫─┤M├───\n",
       "«        └─────────┘└───┘┌────┴────┐┌────┴────┐┌────┴────┐┌───┐ ░  ║  ║ └╥┘┌─┐\n",
       "«   q_3: ────────────────┤ P(-π/2) ├┤ P(-π/4) ├┤ P(-π/8) ├┤ H ├─░──╫──╫──╫─┤M├\n",
       "«                        └─────────┘└─────────┘└─────────┘└───┘ ░  ║  ║  ║ └╥┘\n",
       "«meas: 4/══════════════════════════════════════════════════════════╩══╩══╩══╩═\n",
       "«                                                                  0  1  2  3 "
      ]
     },
     "execution_count": 63,
     "metadata": {},
     "output_type": "execute_result"
    }
   ],
   "source": [
    "#Aunque lo que se pide es solo la QFT, si queremos probar que funciona, aplicamos la inversa\n",
    "qc = inverse_qft(qc,nqubits)\n",
    "qc.measure_all()\n",
    "qc.draw()"
   ]
  },
  {
   "cell_type": "code",
   "execution_count": 64,
   "metadata": {},
   "outputs": [
    {
     "name": "stderr",
     "output_type": "stream",
     "text": [
      "/home/feynman/anaconda3/envs/qiskitEnv/lib/python3.8/site-packages/qiskit/providers/ibmq/ibmqfactory.py:192: UserWarning: Timestamps in IBMQ backend properties, jobs, and job results are all now in local time instead of UTC.\n",
      "  warnings.warn('Timestamps in IBMQ backend properties, jobs, and job results '\n"
     ]
    }
   ],
   "source": [
    "from qiskit import *\n",
    "\n",
    "IBMQ.save_account('95d7606045a3360b89085d323d855372ccd4148396391fab24c3950349608575b7dff70964afc6803168bcedb1826fb3437c3e86658d447eccb9233795c8c3dc', overwrite=True)\n",
    "import numpy as np\n",
    "from qiskit.visualization import plot_histogram\n",
    "%matplotlib inline\n",
    "\n",
    "provider = IBMQ.load_account()\n",
    "backend = provider.backends.ibmq_santiago\n",
    "qobj = assemble(transpile(qc, backend=backend), backend=backend)\n",
    "job = backend.run(qobj)\n",
    "retrieved_job = backend.retrieve_job(job.job_id())"
   ]
  },
  {
   "cell_type": "code",
   "execution_count": 35,
   "metadata": {},
   "outputs": [
    {
     "data": {
      "image/png": "[encoded data removed]",
      "text/plain": [
       "<Figure size 504x360 with 1 Axes>"
      ]
     },
     "execution_count": 35,
     "metadata": {},
     "output_type": "execute_result"
    }
   ],
   "source": [
    "import numpy as np\n",
    "from qiskit import(\n",
    "  QuantumCircuit,\n",
    "  execute,\n",
    "  Aer)\n",
    "from qiskit.visualization import plot_histogram\n",
    "\n",
    "# Usamos el qasm_simulator de Aer\n",
    "simulator = Aer.get_backend('qasm_simulator')\n",
    "# Creamos un objeto Quantum Circuit que actúa sobre el registro cuántico por defecto (q) \n",
    "# de un bit (primer parámetro) y que tiene un registro clásico de un bit (segundo parámetro)\n",
    "circuit = qc\n",
    "# Ejecutamos el circuito sobre el simulador qasm\n",
    "job = execute(circuit, simulator, shots=1000)\n",
    "# Almacenamos los resultados\n",
    "result = job.result()\n",
    "# Capturamos las ocurrencias de salida\n",
    "counts = result.get_counts(circuit)\n",
    "plot_histogram(counts)"
   ]
  },
  {
   "cell_type": "code",
   "execution_count": null,
   "metadata": {},
   "outputs": [],
   "source": [
    "#Ahora vamos a probar la AQFT"
   ]
  },
  {
   "cell_type": "code",
   "execution_count": 65,
   "metadata": {},
   "outputs": [],
   "source": [
    "import numpy as np\n",
    "from numpy import pi\n",
    "# importing Qiskit\n",
    "from qiskit import QuantumCircuit, transpile, assemble, Aer, IBMQ\n",
    "from qiskit.providers.ibmq import least_busy\n",
    "from qiskit.tools.monitor import job_monitor\n",
    "from qiskit.visualization import plot_histogram, plot_bloch_multivector\n",
    "\n",
    "def qft_rotations(circuit, n):\n",
    "    \"\"\"Performs qft on the first n qubits in circuit (without swaps)\"\"\"\n",
    "    if n == 0:\n",
    "        return circuit\n",
    "    n -= 1\n",
    "    circuit.h(n)\n",
    "    for qubit in range(n):\n",
    "        circuit.cp(pi/2**(n-qubit), qubit, n)\n",
    "    # At the end of our function, we call the same function again on\n",
    "    # the next qubits (we reduced n by one earlier in the function)\n",
    "    qft_rotations(circuit, n)  \n",
    "\n",
    "def swap_registers(circuit, n):\n",
    "    for qubit in range(n//2):\n",
    "        circuit.swap(qubit, n-qubit-1)\n",
    "    return circuit\n",
    "\n",
    "def qft(circuit, n):\n",
    "    \"\"\"AQFT on the first n qubits in circuit\"\"\"\n",
    "    qft_rotations(circuit, n-1)\n",
    "    swap_registers(circuit, n)\n",
    "    return circuit\n",
    "\n",
    "def inverse_qft(circuit, n):\n",
    "    \"\"\"Does the inverse AQFT on the first n qubits in circuit\"\"\"\n",
    "    # First we create a QFT circuit of the correct size:\n",
    "    qft_circ = qft(QuantumCircuit(n), n)\n",
    "    # Then we take the inverse of this circuit\n",
    "    invqft_circ = qft_circ.inverse()\n",
    "    # And add it to the first n qubits in our existing circuit\n",
    "    circuit.append(invqft_circ, circuit.qubits[:n])\n",
    "    return circuit.decompose() # .decompose() allows us to see the individual gates"
   ]
  },
  {
   "cell_type": "code",
   "execution_count": 66,
   "metadata": {},
   "outputs": [
    {
     "data": {
      "text/html": [
       "<pre style=\"word-wrap: normal;white-space: pre;background: #fff0;line-height: 1.1;font-family: &quot;Courier New&quot;,Courier,monospace\">     ┌───┐┌─────────┐\n",
       "q_0: ┤ H ├┤ P(7π/8) ├\n",
       "     ├───┤├─────────┤\n",
       "q_1: ┤ H ├┤ P(7π/4) ├\n",
       "     ├───┤├─────────┤\n",
       "q_2: ┤ H ├┤ P(7π/2) ├\n",
       "     ├───┤└┬───────┬┘\n",
       "q_3: ┤ H ├─┤ P(7π) ├─\n",
       "     └───┘ └───────┘ </pre>"
      ],
      "text/plain": [
       "     ┌───┐┌─────────┐\n",
       "q_0: ┤ H ├┤ P(7π/8) ├\n",
       "     ├───┤├─────────┤\n",
       "q_1: ┤ H ├┤ P(7π/4) ├\n",
       "     ├───┤├─────────┤\n",
       "q_2: ┤ H ├┤ P(7π/2) ├\n",
       "     ├───┤└┬───────┬┘\n",
       "q_3: ┤ H ├─┤ P(7π) ├─\n",
       "     └───┘ └───────┘ "
      ]
     },
     "execution_count": 66,
     "metadata": {},
     "output_type": "execute_result"
    }
   ],
   "source": [
    "#Metemos un numero de prueba, el 7 ene ste caso, para probar que funciona\n",
    "nqubits = 4\n",
    "number = 7\n",
    "qc = QuantumCircuit(nqubits)\n",
    "for qubit in range(nqubits):\n",
    "    qc.h(qubit)\n",
    "qc.p(number*pi/8,0)\n",
    "qc.p(number*pi/4,1)\n",
    "qc.p(number*pi/2,2)\n",
    "qc.p(number*pi,3)\n",
    "\n",
    "qc.draw()"
   ]
  },
  {
   "cell_type": "code",
   "execution_count": 67,
   "metadata": {},
   "outputs": [
    {
     "data": {
      "text/html": [
       "<pre style=\"word-wrap: normal;white-space: pre;background: #fff0;line-height: 1.1;font-family: &quot;Courier New&quot;,Courier,monospace\">        ┌─────────┐┌─────────────┐      ┌───┐                           »\n",
       "   q_0: ┤ U2(0,π) ├┤ U(0,0,7π/8) ├────X─┤ H ├─────■─────────────────────»\n",
       "        ├─────────┤├─────────────┤    │ └───┘┌────┴────┐┌───┐           »\n",
       "   q_1: ┤ U2(0,π) ├┤ U(0,0,7π/4) ├─X──┼──────┤ P(-π/2) ├┤ H ├─────■─────»\n",
       "        ├─────────┤├─────────────┤ │  │      └─────────┘└───┘┌────┴────┐»\n",
       "   q_2: ┤ U2(0,π) ├┤ U(0,0,7π/2) ├─X──┼──────────────────────┤ P(-π/2) ├»\n",
       "        ├─────────┤└┬───────────┬┘    │                      └─────────┘»\n",
       "   q_3: ┤ U2(0,π) ├─┤ U(0,0,7π) ├─────X─────────────────────────────────»\n",
       "        └─────────┘ └───────────┘                                       »\n",
       "meas: 4/════════════════════════════════════════════════════════════════»\n",
       "                                                                        »\n",
       "«                         ░ ┌─┐         \n",
       "«   q_0: ─────■───────────░─┤M├─────────\n",
       "«             │           ░ └╥┘┌─┐      \n",
       "«   q_1: ─────┼───────────░──╫─┤M├──────\n",
       "«        ┌────┴────┐┌───┐ ░  ║ └╥┘┌─┐   \n",
       "«   q_2: ┤ P(-π/4) ├┤ H ├─░──╫──╫─┤M├───\n",
       "«        └─────────┘└───┘ ░  ║  ║ └╥┘┌─┐\n",
       "«   q_3: ─────────────────░──╫──╫──╫─┤M├\n",
       "«                         ░  ║  ║  ║ └╥┘\n",
       "«meas: 4/════════════════════╩══╩══╩══╩═\n",
       "«                            0  1  2  3 </pre>"
      ],
      "text/plain": [
       "        ┌─────────┐┌─────────────┐      ┌───┐                           »\n",
       "   q_0: ┤ U2(0,π) ├┤ U(0,0,7π/8) ├────X─┤ H ├─────■─────────────────────»\n",
       "        ├─────────┤├─────────────┤    │ └───┘┌────┴────┐┌───┐           »\n",
       "   q_1: ┤ U2(0,π) ├┤ U(0,0,7π/4) ├─X──┼──────┤ P(-π/2) ├┤ H ├─────■─────»\n",
       "        ├─────────┤├─────────────┤ │  │      └─────────┘└───┘┌────┴────┐»\n",
       "   q_2: ┤ U2(0,π) ├┤ U(0,0,7π/2) ├─X──┼──────────────────────┤ P(-π/2) ├»\n",
       "        ├─────────┤└┬───────────┬┘    │                      └─────────┘»\n",
       "   q_3: ┤ U2(0,π) ├─┤ U(0,0,7π) ├─────X─────────────────────────────────»\n",
       "        └─────────┘ └───────────┘                                       »\n",
       "meas: 4/════════════════════════════════════════════════════════════════»\n",
       "                                                                        »\n",
       "«                         ░ ┌─┐         \n",
       "«   q_0: ─────■───────────░─┤M├─────────\n",
       "«             │           ░ └╥┘┌─┐      \n",
       "«   q_1: ─────┼───────────░──╫─┤M├──────\n",
       "«        ┌────┴────┐┌───┐ ░  ║ └╥┘┌─┐   \n",
       "«   q_2: ┤ P(-π/4) ├┤ H ├─░──╫──╫─┤M├───\n",
       "«        └─────────┘└───┘ ░  ║  ║ └╥┘┌─┐\n",
       "«   q_3: ─────────────────░──╫──╫──╫─┤M├\n",
       "«                         ░  ║  ║  ║ └╥┘\n",
       "«meas: 4/════════════════════╩══╩══╩══╩═\n",
       "«                            0  1  2  3 "
      ]
     },
     "execution_count": 67,
     "metadata": {},
     "output_type": "execute_result"
    }
   ],
   "source": [
    "#Aunque lo que se pide es solo la QFT, si queremos probar que funciona, aplicamos la inversa\n",
    "qc = inverse_qft(qc,nqubits)\n",
    "qc.measure_all()\n",
    "qc.draw()"
   ]
  },
  {
   "cell_type": "code",
   "execution_count": 68,
   "metadata": {},
   "outputs": [
    {
     "name": "stderr",
     "output_type": "stream",
     "text": [
      "ibmqfactory.load_account:WARNING:2021-04-18 21:23:33,233: Credentials are already in use. The existing account in the session will be replaced.\n"
     ]
    }
   ],
   "source": [
    "from qiskit import *\n",
    "\n",
    "IBMQ.save_account('95d7606045a3360b89085d323d855372ccd4148396391fab24c3950349608575b7dff70964afc6803168bcedb1826fb3437c3e86658d447eccb9233795c8c3dc', overwrite=True)\n",
    "import numpy as np\n",
    "from qiskit.visualization import plot_histogram\n",
    "%matplotlib inline\n",
    "\n",
    "provider = IBMQ.load_account()\n",
    "backend = provider.backends.ibmq_santiago\n",
    "qobj = assemble(transpile(qc, backend=backend), backend=backend)\n",
    "job = backend.run(qobj)\n",
    "retrieved_job = backend.retrieve_job(job.job_id())"
   ]
  },
  {
   "cell_type": "code",
   "execution_count": 60,
   "metadata": {},
   "outputs": [
    {
     "data": {
      "image/png": "[encoded data removed]",
      "text/plain": [
       "<Figure size 504x360 with 1 Axes>"
      ]
     },
     "execution_count": 60,
     "metadata": {},
     "output_type": "execute_result"
    }
   ],
   "source": [
    "import numpy as np\n",
    "from qiskit import(\n",
    "  QuantumCircuit,\n",
    "  execute,\n",
    "  Aer)\n",
    "from qiskit.visualization import plot_histogram\n",
    "\n",
    "# Usamos el qasm_simulator de Aer\n",
    "simulator = Aer.get_backend('qasm_simulator')\n",
    "# Creamos un objeto Quantum Circuit que actúa sobre el registro cuántico por defecto (q) \n",
    "# de un bit (primer parámetro) y que tiene un registro clásico de un bit (segundo parámetro)\n",
    "circuit = qc\n",
    "# Ejecutamos el circuito sobre el simulador qasm\n",
    "job = execute(circuit, simulator, shots=1000)\n",
    "# Almacenamos los resultados\n",
    "result = job.result()\n",
    "# Capturamos las ocurrencias de salida\n",
    "counts = result.get_counts(circuit)\n",
    "plot_histogram(counts)"
   ]
  },
  {
   "cell_type": "code",
   "execution_count": null,
   "metadata": {},
   "outputs": [],
   "source": [
    "#En simulado el 50% de las veces arroja el resultado que queremos, '7', seguramente es porque hay alguna puerta H\n",
    "#mal colocada, la AQFT se implementa poniendo n=numero\n",
    "#de rotaciones que queremos cuando llamamos a la funcion qft_rotations()\n",
    "#Los reultados en real tanto de la QFT como de la AQFT arrojan una 40% de frecuencia del numero 7, aunque es\n",
    "#la frecuencia mas alta de todas y es la correcta(el numero 7 en este caso), tiene un 60% de error, por lo que\n",
    "#es bastant mejorable"
   ]
  }
 ],
 "metadata": {
  "kernelspec": {
   "display_name": "Python 3",
   "language": "python",
   "name": "python3"
  },
  "language_info": {
   "codemirror_mode": {
    "name": "ipython",
    "version": 3
   },
   "file_extension": ".py",
   "mimetype": "text/x-python",
   "name": "python",
   "nbconvert_exporter": "python",
   "pygments_lexer": "ipython3",
   "version": "3.8.5"
  }
 },
 "nbformat": 4,
 "nbformat_minor": 5
}
