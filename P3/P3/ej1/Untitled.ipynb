{
 "cells": [
  {
   "cell_type": "code",
   "execution_count": 150,
   "id": "likely-bullet",
   "metadata": {},
   "outputs": [],
   "source": [
    "#QFT: Aplicamos la QFT en este caso con 3 rotaciones como maximo, aunque podrian llegar a ser 4 (ya que tenemos 4\n",
    "#qubits). Además, hace falta aplicar el mismo circuito pero de manera inversa si queremos medirlo y comprobar que\n",
    "#funciona correctamente, si no, saldrían resultados aleatorios y relativamente uniformes para todas las\n",
    "#combinaciones. Aplicando la inversa, se fuerza a que salga un valor de nuestra elección con mayor probabilidad\n",
    "from pytket.qasm import circuit_from_qasm\n",
    "\n",
    "c = circuit_from_qasm(\"QFT.qasm\")"
   ]
  },
  {
   "cell_type": "code",
   "execution_count": 151,
   "id": "divine-conducting",
   "metadata": {},
   "outputs": [
    {
     "name": "stdout",
     "output_type": "stream",
     "text": [
      "Counter({(1, 1, 0, 0): 518, (1, 1, 0, 1): 225, (1, 1, 1, 1): 122, (0, 0, 1, 0): 38, (0, 0, 1, 1): 36, (0, 1, 0, 0): 30, (0, 1, 1, 1): 24, (0, 1, 0, 1): 4, (1, 1, 1, 0): 2, (0, 1, 1, 0): 1})\n"
     ]
    }
   ],
   "source": [
    "from pytket.backends.ibm import AerBackend\n",
    "b = AerBackend()\n",
    "b.compile_circuit(c)\n",
    "handle = b.process_circuit(c, 1000)\n",
    "result = b.get_result(handle)\n",
    "counts = result.get_counts()\n",
    "print(counts)"
   ]
  },
  {
   "cell_type": "code",
   "execution_count": 131,
   "id": "economic-michigan",
   "metadata": {},
   "outputs": [],
   "source": [
    "#AQFT: la implementacion es de la misma manera que la QFT, pero quitandole una rotación, de esta manera nos\n",
    "#quedamos con 2 rotaciones como máximo, esta medida se toma en base a que nos ahorramos potencia de cómputo\n",
    "#y al mismo tiempo el resultado es prácticamente el mismo. Este es un ejemplo sencillo en el que solo quitamos una\n",
    "#rotacion comparandola con la QFT anterior, pero con ejemplos grandes en los que hay 20 rotaciones por ejemplo,\n",
    "#también se cumpliría este principio\n",
    "c = circuit_from_qasm(\"AQFT.qasm\")"
   ]
  },
  {
   "cell_type": "code",
   "execution_count": 132,
   "id": "primary-encoding",
   "metadata": {},
   "outputs": [
    {
     "name": "stdout",
     "output_type": "stream",
     "text": [
      "Counter({(1, 1, 0, 0): 515, (1, 1, 0, 1): 225, (1, 1, 1, 1): 122, (0, 0, 1, 0): 34, (0, 1, 1, 1): 32, (0, 0, 1, 1): 30, (0, 1, 0, 0): 25, (0, 1, 1, 0): 6, (1, 1, 1, 0): 6, (0, 1, 0, 1): 5})\n"
     ]
    }
   ],
   "source": [
    "from pytket.backends.ibm import AerBackend\n",
    "b = AerBackend()\n",
    "b.compile_circuit(c)\n",
    "handle = b.process_circuit(c, 1000)\n",
    "result = b.get_result(handle)\n",
    "counts = result.get_counts()\n",
    "print(counts)"
   ]
  },
  {
   "cell_type": "code",
   "execution_count": null,
   "id": "english-sphere",
   "metadata": {},
   "outputs": [],
   "source": []
  }
 ],
 "metadata": {
  "kernelspec": {
   "display_name": "Python 3",
   "language": "python",
   "name": "python3"
  },
  "language_info": {
   "codemirror_mode": {
    "name": "ipython",
    "version": 3
   },
   "file_extension": ".py",
   "mimetype": "text/x-python",
   "name": "python",
   "nbconvert_exporter": "python",
   "pygments_lexer": "ipython3",
   "version": "3.8.5"
  }
 },
 "nbformat": 4,
 "nbformat_minor": 5
}
